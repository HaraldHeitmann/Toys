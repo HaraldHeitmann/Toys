{
 "cells": [
  {
   "cell_type": "code",
   "execution_count": 144,
   "metadata": {
    "collapsed": true
   },
   "outputs": [],
   "source": [
    "import pandas as pd\n",
    "import numpy as np\n",
    "import time"
   ]
  },
  {
   "cell_type": "code",
   "execution_count": null,
   "metadata": {
    "collapsed": false
   },
   "outputs": [],
   "source": []
  },
  {
   "cell_type": "code",
   "execution_count": 145,
   "metadata": {
    "collapsed": false
   },
   "outputs": [
    {
     "name": "stdout",
     "output_type": "stream",
     "text": [
      "links.csv\n",
      " Movielens.ipynb\n",
      "movies.csv\n",
      "ratings.csv\n",
      "README.txt\n",
      "tags.csv\n",
      "Test Plotly.ipynb\n"
     ]
    }
   ],
   "source": [
    "%%bash\n",
    "ls"
   ]
  },
  {
   "cell_type": "code",
   "execution_count": 146,
   "metadata": {
    "collapsed": true
   },
   "outputs": [],
   "source": [
    "t=time.time()\n",
    "raw_movies=pd.read_csv('movies.csv')\n",
    "raw_ratings=pd.read_csv('ratings.csv')"
   ]
  },
  {
   "cell_type": "code",
   "execution_count": 147,
   "metadata": {
    "collapsed": false
   },
   "outputs": [
    {
     "data": {
      "text/html": [
       "<div>\n",
       "<table border=\"1\" class=\"dataframe\">\n",
       "  <thead>\n",
       "    <tr style=\"text-align: right;\">\n",
       "      <th></th>\n",
       "      <th>movieId</th>\n",
       "      <th>title</th>\n",
       "      <th>genres</th>\n",
       "    </tr>\n",
       "  </thead>\n",
       "  <tbody>\n",
       "    <tr>\n",
       "      <th>count</th>\n",
       "      <td>9125.000000</td>\n",
       "      <td>9125</td>\n",
       "      <td>9125</td>\n",
       "    </tr>\n",
       "    <tr>\n",
       "      <th>unique</th>\n",
       "      <td>NaN</td>\n",
       "      <td>9123</td>\n",
       "      <td>902</td>\n",
       "    </tr>\n",
       "    <tr>\n",
       "      <th>top</th>\n",
       "      <td>NaN</td>\n",
       "      <td>War of the Worlds (2005)</td>\n",
       "      <td>Drama</td>\n",
       "    </tr>\n",
       "    <tr>\n",
       "      <th>freq</th>\n",
       "      <td>NaN</td>\n",
       "      <td>2</td>\n",
       "      <td>1170</td>\n",
       "    </tr>\n",
       "    <tr>\n",
       "      <th>mean</th>\n",
       "      <td>31123.291836</td>\n",
       "      <td>NaN</td>\n",
       "      <td>NaN</td>\n",
       "    </tr>\n",
       "    <tr>\n",
       "      <th>std</th>\n",
       "      <td>40782.633604</td>\n",
       "      <td>NaN</td>\n",
       "      <td>NaN</td>\n",
       "    </tr>\n",
       "    <tr>\n",
       "      <th>min</th>\n",
       "      <td>1.000000</td>\n",
       "      <td>NaN</td>\n",
       "      <td>NaN</td>\n",
       "    </tr>\n",
       "    <tr>\n",
       "      <th>25%</th>\n",
       "      <td>2850.000000</td>\n",
       "      <td>NaN</td>\n",
       "      <td>NaN</td>\n",
       "    </tr>\n",
       "    <tr>\n",
       "      <th>50%</th>\n",
       "      <td>6290.000000</td>\n",
       "      <td>NaN</td>\n",
       "      <td>NaN</td>\n",
       "    </tr>\n",
       "    <tr>\n",
       "      <th>75%</th>\n",
       "      <td>56274.000000</td>\n",
       "      <td>NaN</td>\n",
       "      <td>NaN</td>\n",
       "    </tr>\n",
       "    <tr>\n",
       "      <th>max</th>\n",
       "      <td>164979.000000</td>\n",
       "      <td>NaN</td>\n",
       "      <td>NaN</td>\n",
       "    </tr>\n",
       "  </tbody>\n",
       "</table>\n",
       "</div>"
      ],
      "text/plain": [
       "              movieId                     title genres\n",
       "count     9125.000000                      9125   9125\n",
       "unique            NaN                      9123    902\n",
       "top               NaN  War of the Worlds (2005)  Drama\n",
       "freq              NaN                         2   1170\n",
       "mean     31123.291836                       NaN    NaN\n",
       "std      40782.633604                       NaN    NaN\n",
       "min          1.000000                       NaN    NaN\n",
       "25%       2850.000000                       NaN    NaN\n",
       "50%       6290.000000                       NaN    NaN\n",
       "75%      56274.000000                       NaN    NaN\n",
       "max     164979.000000                       NaN    NaN"
      ]
     },
     "execution_count": 147,
     "metadata": {},
     "output_type": "execute_result"
    }
   ],
   "source": [
    "raw_movies.describe(include='all')"
   ]
  },
  {
   "cell_type": "code",
   "execution_count": 148,
   "metadata": {
    "collapsed": false
   },
   "outputs": [
    {
     "data": {
      "text/html": [
       "<div>\n",
       "<table border=\"1\" class=\"dataframe\">\n",
       "  <thead>\n",
       "    <tr style=\"text-align: right;\">\n",
       "      <th></th>\n",
       "      <th>movieId</th>\n",
       "      <th>title</th>\n",
       "      <th>genres</th>\n",
       "    </tr>\n",
       "  </thead>\n",
       "  <tbody>\n",
       "    <tr>\n",
       "      <th>0</th>\n",
       "      <td>1</td>\n",
       "      <td>Toy Story (1995)</td>\n",
       "      <td>Adventure|Animation|Children|Comedy|Fantasy</td>\n",
       "    </tr>\n",
       "    <tr>\n",
       "      <th>1</th>\n",
       "      <td>2</td>\n",
       "      <td>Jumanji (1995)</td>\n",
       "      <td>Adventure|Children|Fantasy</td>\n",
       "    </tr>\n",
       "    <tr>\n",
       "      <th>2</th>\n",
       "      <td>3</td>\n",
       "      <td>Grumpier Old Men (1995)</td>\n",
       "      <td>Comedy|Romance</td>\n",
       "    </tr>\n",
       "    <tr>\n",
       "      <th>3</th>\n",
       "      <td>4</td>\n",
       "      <td>Waiting to Exhale (1995)</td>\n",
       "      <td>Comedy|Drama|Romance</td>\n",
       "    </tr>\n",
       "    <tr>\n",
       "      <th>4</th>\n",
       "      <td>5</td>\n",
       "      <td>Father of the Bride Part II (1995)</td>\n",
       "      <td>Comedy</td>\n",
       "    </tr>\n",
       "    <tr>\n",
       "      <th>5</th>\n",
       "      <td>6</td>\n",
       "      <td>Heat (1995)</td>\n",
       "      <td>Action|Crime|Thriller</td>\n",
       "    </tr>\n",
       "    <tr>\n",
       "      <th>6</th>\n",
       "      <td>7</td>\n",
       "      <td>Sabrina (1995)</td>\n",
       "      <td>Comedy|Romance</td>\n",
       "    </tr>\n",
       "    <tr>\n",
       "      <th>7</th>\n",
       "      <td>8</td>\n",
       "      <td>Tom and Huck (1995)</td>\n",
       "      <td>Adventure|Children</td>\n",
       "    </tr>\n",
       "    <tr>\n",
       "      <th>8</th>\n",
       "      <td>9</td>\n",
       "      <td>Sudden Death (1995)</td>\n",
       "      <td>Action</td>\n",
       "    </tr>\n",
       "    <tr>\n",
       "      <th>9</th>\n",
       "      <td>10</td>\n",
       "      <td>GoldenEye (1995)</td>\n",
       "      <td>Action|Adventure|Thriller</td>\n",
       "    </tr>\n",
       "    <tr>\n",
       "      <th>10</th>\n",
       "      <td>11</td>\n",
       "      <td>American President, The (1995)</td>\n",
       "      <td>Comedy|Drama|Romance</td>\n",
       "    </tr>\n",
       "    <tr>\n",
       "      <th>11</th>\n",
       "      <td>12</td>\n",
       "      <td>Dracula: Dead and Loving It (1995)</td>\n",
       "      <td>Comedy|Horror</td>\n",
       "    </tr>\n",
       "    <tr>\n",
       "      <th>12</th>\n",
       "      <td>13</td>\n",
       "      <td>Balto (1995)</td>\n",
       "      <td>Adventure|Animation|Children</td>\n",
       "    </tr>\n",
       "    <tr>\n",
       "      <th>13</th>\n",
       "      <td>14</td>\n",
       "      <td>Nixon (1995)</td>\n",
       "      <td>Drama</td>\n",
       "    </tr>\n",
       "    <tr>\n",
       "      <th>14</th>\n",
       "      <td>15</td>\n",
       "      <td>Cutthroat Island (1995)</td>\n",
       "      <td>Action|Adventure|Romance</td>\n",
       "    </tr>\n",
       "    <tr>\n",
       "      <th>15</th>\n",
       "      <td>16</td>\n",
       "      <td>Casino (1995)</td>\n",
       "      <td>Crime|Drama</td>\n",
       "    </tr>\n",
       "    <tr>\n",
       "      <th>16</th>\n",
       "      <td>17</td>\n",
       "      <td>Sense and Sensibility (1995)</td>\n",
       "      <td>Drama|Romance</td>\n",
       "    </tr>\n",
       "    <tr>\n",
       "      <th>17</th>\n",
       "      <td>18</td>\n",
       "      <td>Four Rooms (1995)</td>\n",
       "      <td>Comedy</td>\n",
       "    </tr>\n",
       "    <tr>\n",
       "      <th>18</th>\n",
       "      <td>19</td>\n",
       "      <td>Ace Ventura: When Nature Calls (1995)</td>\n",
       "      <td>Comedy</td>\n",
       "    </tr>\n",
       "    <tr>\n",
       "      <th>19</th>\n",
       "      <td>20</td>\n",
       "      <td>Money Train (1995)</td>\n",
       "      <td>Action|Comedy|Crime|Drama|Thriller</td>\n",
       "    </tr>\n",
       "    <tr>\n",
       "      <th>20</th>\n",
       "      <td>21</td>\n",
       "      <td>Get Shorty (1995)</td>\n",
       "      <td>Comedy|Crime|Thriller</td>\n",
       "    </tr>\n",
       "    <tr>\n",
       "      <th>21</th>\n",
       "      <td>22</td>\n",
       "      <td>Copycat (1995)</td>\n",
       "      <td>Crime|Drama|Horror|Mystery|Thriller</td>\n",
       "    </tr>\n",
       "    <tr>\n",
       "      <th>22</th>\n",
       "      <td>23</td>\n",
       "      <td>Assassins (1995)</td>\n",
       "      <td>Action|Crime|Thriller</td>\n",
       "    </tr>\n",
       "    <tr>\n",
       "      <th>23</th>\n",
       "      <td>24</td>\n",
       "      <td>Powder (1995)</td>\n",
       "      <td>Drama|Sci-Fi</td>\n",
       "    </tr>\n",
       "    <tr>\n",
       "      <th>24</th>\n",
       "      <td>25</td>\n",
       "      <td>Leaving Las Vegas (1995)</td>\n",
       "      <td>Drama|Romance</td>\n",
       "    </tr>\n",
       "  </tbody>\n",
       "</table>\n",
       "</div>"
      ],
      "text/plain": [
       "    movieId                                  title  \\\n",
       "0         1                       Toy Story (1995)   \n",
       "1         2                         Jumanji (1995)   \n",
       "2         3                Grumpier Old Men (1995)   \n",
       "3         4               Waiting to Exhale (1995)   \n",
       "4         5     Father of the Bride Part II (1995)   \n",
       "5         6                            Heat (1995)   \n",
       "6         7                         Sabrina (1995)   \n",
       "7         8                    Tom and Huck (1995)   \n",
       "8         9                    Sudden Death (1995)   \n",
       "9        10                       GoldenEye (1995)   \n",
       "10       11         American President, The (1995)   \n",
       "11       12     Dracula: Dead and Loving It (1995)   \n",
       "12       13                           Balto (1995)   \n",
       "13       14                           Nixon (1995)   \n",
       "14       15                Cutthroat Island (1995)   \n",
       "15       16                          Casino (1995)   \n",
       "16       17           Sense and Sensibility (1995)   \n",
       "17       18                      Four Rooms (1995)   \n",
       "18       19  Ace Ventura: When Nature Calls (1995)   \n",
       "19       20                     Money Train (1995)   \n",
       "20       21                      Get Shorty (1995)   \n",
       "21       22                         Copycat (1995)   \n",
       "22       23                       Assassins (1995)   \n",
       "23       24                          Powder (1995)   \n",
       "24       25               Leaving Las Vegas (1995)   \n",
       "\n",
       "                                         genres  \n",
       "0   Adventure|Animation|Children|Comedy|Fantasy  \n",
       "1                    Adventure|Children|Fantasy  \n",
       "2                                Comedy|Romance  \n",
       "3                          Comedy|Drama|Romance  \n",
       "4                                        Comedy  \n",
       "5                         Action|Crime|Thriller  \n",
       "6                                Comedy|Romance  \n",
       "7                            Adventure|Children  \n",
       "8                                        Action  \n",
       "9                     Action|Adventure|Thriller  \n",
       "10                         Comedy|Drama|Romance  \n",
       "11                                Comedy|Horror  \n",
       "12                 Adventure|Animation|Children  \n",
       "13                                        Drama  \n",
       "14                     Action|Adventure|Romance  \n",
       "15                                  Crime|Drama  \n",
       "16                                Drama|Romance  \n",
       "17                                       Comedy  \n",
       "18                                       Comedy  \n",
       "19           Action|Comedy|Crime|Drama|Thriller  \n",
       "20                        Comedy|Crime|Thriller  \n",
       "21          Crime|Drama|Horror|Mystery|Thriller  \n",
       "22                        Action|Crime|Thriller  \n",
       "23                                 Drama|Sci-Fi  \n",
       "24                                Drama|Romance  "
      ]
     },
     "execution_count": 148,
     "metadata": {},
     "output_type": "execute_result"
    }
   ],
   "source": [
    "raw_movies.head(25)"
   ]
  },
  {
   "cell_type": "code",
   "execution_count": 149,
   "metadata": {
    "collapsed": false
   },
   "outputs": [
    {
     "data": {
      "text/plain": [
       "[1, array(['Adventure', 'Animation', 'Children', 'Comedy', 'Fantasy'], \n",
       "       dtype='|S9')]"
      ]
     },
     "execution_count": 149,
     "metadata": {},
     "output_type": "execute_result"
    }
   ],
   "source": [
    "###One hot encoding \n",
    "###Can be upgraded\n",
    "genres=['Action','Adventure','Animation', 'Children','Comedy', 'Crime', 'Documentary',\n",
    "        'Drama', 'Fantasy', 'Film-Noir','Horror',\n",
    "        'Musical','Mystery', 'Romance', 'Sci-Fi', 'Thriller', 'War', 'Western', '(no genres listed)','IMAX']\n",
    "dic_gen={}\n",
    "contador=0\n",
    "for i in genres:\n",
    "    dic_gen[i]=contador\n",
    "    contador+=1\n",
    "data_mov_str=[]\n",
    "for i in range(len(raw_movies)):\n",
    "    data_mov_str.append([raw_movies.movieId[i],np.array(raw_movies.genres[i].split('|'))])\n",
    "data_mov_str[0]"
   ]
  },
  {
   "cell_type": "code",
   "execution_count": 150,
   "metadata": {
    "collapsed": false
   },
   "outputs": [],
   "source": [
    "def OHE(mov,gen,dic):\n",
    "    x=np.zeros(len(gen))\n",
    "    for i in mov:\n",
    "        x[dic[i]]=1.\n",
    "    return x"
   ]
  },
  {
   "cell_type": "code",
   "execution_count": 151,
   "metadata": {
    "collapsed": false
   },
   "outputs": [],
   "source": [
    "data_OHE=[]\n",
    "for i in data_mov_str:\n",
    "    data_OHE.append([i[0],OHE(i[1],genres,dic_gen)])"
   ]
  },
  {
   "cell_type": "code",
   "execution_count": 152,
   "metadata": {
    "collapsed": false
   },
   "outputs": [
    {
     "data": {
      "text/plain": [
       "[1, array([ 0.,  1.,  1.,  1.,  1.,  0.,  0.,  0.,  1.,  0.,  0.,  0.,  0.,\n",
       "         0.,  0.,  0.,  0.,  0.,  0.,  0.])]"
      ]
     },
     "execution_count": 152,
     "metadata": {},
     "output_type": "execute_result"
    }
   ],
   "source": [
    "data_OHE[0]"
   ]
  },
  {
   "cell_type": "code",
   "execution_count": 153,
   "metadata": {
    "collapsed": false
   },
   "outputs": [],
   "source": [
    "def transform(user_id_dataset,data_ohe):\n",
    "    data=[]\n",
    "    for i in range(1,671+1):   ###generalize to arbritrary length\n",
    "        user=user_id_dataset[user_id_dataset.userId==i]\n",
    "        final_point=np.zeros(len(dic_gen))\n",
    "        for j in range(len(user)):\n",
    "            point=get_point(user.movieId[user.index[j]],user.rating[user.index[j]],data_ohe)\n",
    "            final_point+=point\n",
    "        data.append(final_point/len(user))\n",
    "    return data\n",
    "\n",
    "def get_point(mov_Id,user_rat,data_ohe): ####This function can be modified and will improve (or not) the results\n",
    "    for i in data_ohe:\n",
    "        if mov_Id==i[0]:\n",
    "            return (2*(user_rat-0.5)/4.5-1)*i[1] ###Here"
   ]
  },
  {
   "cell_type": "code",
   "execution_count": 154,
   "metadata": {
    "collapsed": false
   },
   "outputs": [
    {
     "data": {
      "text/plain": [
       "-37.72451615333557"
      ]
     },
     "execution_count": 154,
     "metadata": {},
     "output_type": "execute_result"
    }
   ],
   "source": [
    "tt=time.time()\n",
    "data=transform(raw_ratings,data_OHE)\n",
    "data=np.array(data)\n",
    "tt-time.time()"
   ]
  },
  {
   "cell_type": "code",
   "execution_count": 155,
   "metadata": {
    "collapsed": false
   },
   "outputs": [],
   "source": [
    "data_DF=pd.DataFrame(data)"
   ]
  },
  {
   "cell_type": "code",
   "execution_count": 156,
   "metadata": {
    "collapsed": false
   },
   "outputs": [
    {
     "data": {
      "text/html": [
       "<div>\n",
       "<table border=\"1\" class=\"dataframe\">\n",
       "  <thead>\n",
       "    <tr style=\"text-align: right;\">\n",
       "      <th></th>\n",
       "      <th>0</th>\n",
       "      <th>1</th>\n",
       "      <th>2</th>\n",
       "      <th>3</th>\n",
       "      <th>4</th>\n",
       "      <th>5</th>\n",
       "      <th>6</th>\n",
       "      <th>7</th>\n",
       "      <th>8</th>\n",
       "      <th>9</th>\n",
       "      <th>10</th>\n",
       "      <th>11</th>\n",
       "      <th>12</th>\n",
       "      <th>13</th>\n",
       "      <th>14</th>\n",
       "      <th>15</th>\n",
       "      <th>16</th>\n",
       "      <th>17</th>\n",
       "      <th>18</th>\n",
       "      <th>19</th>\n",
       "    </tr>\n",
       "  </thead>\n",
       "  <tbody>\n",
       "    <tr>\n",
       "      <th>count</th>\n",
       "      <td>671.000000</td>\n",
       "      <td>671.000000</td>\n",
       "      <td>671.000000</td>\n",
       "      <td>671.000000</td>\n",
       "      <td>671.000000</td>\n",
       "      <td>671.000000</td>\n",
       "      <td>671.000000</td>\n",
       "      <td>671.000000</td>\n",
       "      <td>671.000000</td>\n",
       "      <td>671.000000</td>\n",
       "      <td>671.000000</td>\n",
       "      <td>671.000000</td>\n",
       "      <td>671.000000</td>\n",
       "      <td>671.000000</td>\n",
       "      <td>671.000000</td>\n",
       "      <td>671.000000</td>\n",
       "      <td>671.000000</td>\n",
       "      <td>671.000000</td>\n",
       "      <td>671.000000</td>\n",
       "      <td>671.000000</td>\n",
       "    </tr>\n",
       "    <tr>\n",
       "      <th>mean</th>\n",
       "      <td>0.109121</td>\n",
       "      <td>0.096540</td>\n",
       "      <td>0.028750</td>\n",
       "      <td>0.033323</td>\n",
       "      <td>0.130365</td>\n",
       "      <td>0.082828</td>\n",
       "      <td>0.004959</td>\n",
       "      <td>0.204444</td>\n",
       "      <td>0.042529</td>\n",
       "      <td>0.005297</td>\n",
       "      <td>0.018376</td>\n",
       "      <td>0.018319</td>\n",
       "      <td>0.035021</td>\n",
       "      <td>0.079255</td>\n",
       "      <td>0.063872</td>\n",
       "      <td>0.108677</td>\n",
       "      <td>0.028580</td>\n",
       "      <td>0.007718</td>\n",
       "      <td>0.000046</td>\n",
       "      <td>0.016737</td>\n",
       "    </tr>\n",
       "    <tr>\n",
       "      <th>std</th>\n",
       "      <td>0.105392</td>\n",
       "      <td>0.092389</td>\n",
       "      <td>0.044733</td>\n",
       "      <td>0.048500</td>\n",
       "      <td>0.100938</td>\n",
       "      <td>0.066083</td>\n",
       "      <td>0.013478</td>\n",
       "      <td>0.124671</td>\n",
       "      <td>0.048265</td>\n",
       "      <td>0.016701</td>\n",
       "      <td>0.038541</td>\n",
       "      <td>0.028769</td>\n",
       "      <td>0.035723</td>\n",
       "      <td>0.068031</td>\n",
       "      <td>0.077015</td>\n",
       "      <td>0.085209</td>\n",
       "      <td>0.030230</td>\n",
       "      <td>0.012836</td>\n",
       "      <td>0.000474</td>\n",
       "      <td>0.031152</td>\n",
       "    </tr>\n",
       "    <tr>\n",
       "      <th>min</th>\n",
       "      <td>-0.185185</td>\n",
       "      <td>-0.248677</td>\n",
       "      <td>-0.142857</td>\n",
       "      <td>-0.211640</td>\n",
       "      <td>-0.410431</td>\n",
       "      <td>-0.054307</td>\n",
       "      <td>-0.048413</td>\n",
       "      <td>-0.273810</td>\n",
       "      <td>-0.138889</td>\n",
       "      <td>-0.047619</td>\n",
       "      <td>-0.272222</td>\n",
       "      <td>-0.086957</td>\n",
       "      <td>-0.061728</td>\n",
       "      <td>-0.151515</td>\n",
       "      <td>-0.117284</td>\n",
       "      <td>-0.216931</td>\n",
       "      <td>-0.050000</td>\n",
       "      <td>-0.043478</td>\n",
       "      <td>-0.002196</td>\n",
       "      <td>-0.067901</td>\n",
       "    </tr>\n",
       "    <tr>\n",
       "      <th>25%</th>\n",
       "      <td>0.038945</td>\n",
       "      <td>0.038820</td>\n",
       "      <td>0.002039</td>\n",
       "      <td>0.004103</td>\n",
       "      <td>0.070909</td>\n",
       "      <td>0.038194</td>\n",
       "      <td>0.000000</td>\n",
       "      <td>0.125933</td>\n",
       "      <td>0.012289</td>\n",
       "      <td>0.000000</td>\n",
       "      <td>0.000000</td>\n",
       "      <td>0.000000</td>\n",
       "      <td>0.012486</td>\n",
       "      <td>0.038812</td>\n",
       "      <td>0.017189</td>\n",
       "      <td>0.050615</td>\n",
       "      <td>0.010052</td>\n",
       "      <td>0.000000</td>\n",
       "      <td>0.000000</td>\n",
       "      <td>0.000000</td>\n",
       "    </tr>\n",
       "    <tr>\n",
       "      <th>50%</th>\n",
       "      <td>0.086151</td>\n",
       "      <td>0.082126</td>\n",
       "      <td>0.018215</td>\n",
       "      <td>0.023449</td>\n",
       "      <td>0.124356</td>\n",
       "      <td>0.074074</td>\n",
       "      <td>0.000000</td>\n",
       "      <td>0.194771</td>\n",
       "      <td>0.035088</td>\n",
       "      <td>0.000000</td>\n",
       "      <td>0.012346</td>\n",
       "      <td>0.010417</td>\n",
       "      <td>0.027778</td>\n",
       "      <td>0.071563</td>\n",
       "      <td>0.045584</td>\n",
       "      <td>0.098039</td>\n",
       "      <td>0.023269</td>\n",
       "      <td>0.003451</td>\n",
       "      <td>0.000000</td>\n",
       "      <td>0.004831</td>\n",
       "    </tr>\n",
       "    <tr>\n",
       "      <th>75%</th>\n",
       "      <td>0.161593</td>\n",
       "      <td>0.145521</td>\n",
       "      <td>0.040764</td>\n",
       "      <td>0.051498</td>\n",
       "      <td>0.180939</td>\n",
       "      <td>0.114478</td>\n",
       "      <td>0.004946</td>\n",
       "      <td>0.274118</td>\n",
       "      <td>0.064086</td>\n",
       "      <td>0.004568</td>\n",
       "      <td>0.027778</td>\n",
       "      <td>0.026455</td>\n",
       "      <td>0.050163</td>\n",
       "      <td>0.110871</td>\n",
       "      <td>0.091642</td>\n",
       "      <td>0.154015</td>\n",
       "      <td>0.042363</td>\n",
       "      <td>0.013072</td>\n",
       "      <td>0.000000</td>\n",
       "      <td>0.020419</td>\n",
       "    </tr>\n",
       "    <tr>\n",
       "      <th>max</th>\n",
       "      <td>0.700000</td>\n",
       "      <td>0.633333</td>\n",
       "      <td>0.408333</td>\n",
       "      <td>0.276190</td>\n",
       "      <td>0.494523</td>\n",
       "      <td>0.510288</td>\n",
       "      <td>0.153846</td>\n",
       "      <td>0.578014</td>\n",
       "      <td>0.315556</td>\n",
       "      <td>0.240240</td>\n",
       "      <td>0.430556</td>\n",
       "      <td>0.168277</td>\n",
       "      <td>0.273902</td>\n",
       "      <td>0.565657</td>\n",
       "      <td>0.570988</td>\n",
       "      <td>0.420420</td>\n",
       "      <td>0.331089</td>\n",
       "      <td>0.095238</td>\n",
       "      <td>0.006211</td>\n",
       "      <td>0.245169</td>\n",
       "    </tr>\n",
       "  </tbody>\n",
       "</table>\n",
       "</div>"
      ],
      "text/plain": [
       "               0           1           2           3           4           5   \\\n",
       "count  671.000000  671.000000  671.000000  671.000000  671.000000  671.000000   \n",
       "mean     0.109121    0.096540    0.028750    0.033323    0.130365    0.082828   \n",
       "std      0.105392    0.092389    0.044733    0.048500    0.100938    0.066083   \n",
       "min     -0.185185   -0.248677   -0.142857   -0.211640   -0.410431   -0.054307   \n",
       "25%      0.038945    0.038820    0.002039    0.004103    0.070909    0.038194   \n",
       "50%      0.086151    0.082126    0.018215    0.023449    0.124356    0.074074   \n",
       "75%      0.161593    0.145521    0.040764    0.051498    0.180939    0.114478   \n",
       "max      0.700000    0.633333    0.408333    0.276190    0.494523    0.510288   \n",
       "\n",
       "               6           7           8           9           10          11  \\\n",
       "count  671.000000  671.000000  671.000000  671.000000  671.000000  671.000000   \n",
       "mean     0.004959    0.204444    0.042529    0.005297    0.018376    0.018319   \n",
       "std      0.013478    0.124671    0.048265    0.016701    0.038541    0.028769   \n",
       "min     -0.048413   -0.273810   -0.138889   -0.047619   -0.272222   -0.086957   \n",
       "25%      0.000000    0.125933    0.012289    0.000000    0.000000    0.000000   \n",
       "50%      0.000000    0.194771    0.035088    0.000000    0.012346    0.010417   \n",
       "75%      0.004946    0.274118    0.064086    0.004568    0.027778    0.026455   \n",
       "max      0.153846    0.578014    0.315556    0.240240    0.430556    0.168277   \n",
       "\n",
       "               12          13          14          15          16          17  \\\n",
       "count  671.000000  671.000000  671.000000  671.000000  671.000000  671.000000   \n",
       "mean     0.035021    0.079255    0.063872    0.108677    0.028580    0.007718   \n",
       "std      0.035723    0.068031    0.077015    0.085209    0.030230    0.012836   \n",
       "min     -0.061728   -0.151515   -0.117284   -0.216931   -0.050000   -0.043478   \n",
       "25%      0.012486    0.038812    0.017189    0.050615    0.010052    0.000000   \n",
       "50%      0.027778    0.071563    0.045584    0.098039    0.023269    0.003451   \n",
       "75%      0.050163    0.110871    0.091642    0.154015    0.042363    0.013072   \n",
       "max      0.273902    0.565657    0.570988    0.420420    0.331089    0.095238   \n",
       "\n",
       "               18          19  \n",
       "count  671.000000  671.000000  \n",
       "mean     0.000046    0.016737  \n",
       "std      0.000474    0.031152  \n",
       "min     -0.002196   -0.067901  \n",
       "25%      0.000000    0.000000  \n",
       "50%      0.000000    0.004831  \n",
       "75%      0.000000    0.020419  \n",
       "max      0.006211    0.245169  "
      ]
     },
     "execution_count": 156,
     "metadata": {},
     "output_type": "execute_result"
    }
   ],
   "source": [
    "data_DF.describe()"
   ]
  },
  {
   "cell_type": "code",
   "execution_count": 157,
   "metadata": {
    "collapsed": false
   },
   "outputs": [],
   "source": [
    "data_normal=(data_DF-data_DF.mean())/data_DF.std()"
   ]
  },
  {
   "cell_type": "code",
   "execution_count": 158,
   "metadata": {
    "collapsed": false
   },
   "outputs": [
    {
     "data": {
      "text/html": [
       "<div>\n",
       "<table border=\"1\" class=\"dataframe\">\n",
       "  <thead>\n",
       "    <tr style=\"text-align: right;\">\n",
       "      <th></th>\n",
       "      <th>0</th>\n",
       "      <th>1</th>\n",
       "      <th>2</th>\n",
       "      <th>3</th>\n",
       "      <th>4</th>\n",
       "      <th>5</th>\n",
       "      <th>6</th>\n",
       "      <th>7</th>\n",
       "      <th>8</th>\n",
       "      <th>9</th>\n",
       "      <th>10</th>\n",
       "      <th>11</th>\n",
       "      <th>12</th>\n",
       "      <th>13</th>\n",
       "      <th>14</th>\n",
       "      <th>15</th>\n",
       "      <th>16</th>\n",
       "      <th>17</th>\n",
       "      <th>18</th>\n",
       "      <th>19</th>\n",
       "    </tr>\n",
       "  </thead>\n",
       "  <tbody>\n",
       "    <tr>\n",
       "      <th>count</th>\n",
       "      <td>6.710000e+02</td>\n",
       "      <td>6.710000e+02</td>\n",
       "      <td>6.710000e+02</td>\n",
       "      <td>6.710000e+02</td>\n",
       "      <td>6.710000e+02</td>\n",
       "      <td>6.710000e+02</td>\n",
       "      <td>6.710000e+02</td>\n",
       "      <td>6.710000e+02</td>\n",
       "      <td>6.710000e+02</td>\n",
       "      <td>6.710000e+02</td>\n",
       "      <td>6.710000e+02</td>\n",
       "      <td>6.710000e+02</td>\n",
       "      <td>6.710000e+02</td>\n",
       "      <td>6.710000e+02</td>\n",
       "      <td>6.710000e+02</td>\n",
       "      <td>6.710000e+02</td>\n",
       "      <td>6.710000e+02</td>\n",
       "      <td>6.710000e+02</td>\n",
       "      <td>6.710000e+02</td>\n",
       "      <td>6.710000e+02</td>\n",
       "    </tr>\n",
       "    <tr>\n",
       "      <th>mean</th>\n",
       "      <td>1.846511e-16</td>\n",
       "      <td>-1.632077e-15</td>\n",
       "      <td>-3.812152e-16</td>\n",
       "      <td>-1.665169e-15</td>\n",
       "      <td>-2.250228e-16</td>\n",
       "      <td>-8.947967e-16</td>\n",
       "      <td>-3.706259e-17</td>\n",
       "      <td>-1.802830e-15</td>\n",
       "      <td>-2.514961e-17</td>\n",
       "      <td>2.779694e-16</td>\n",
       "      <td>-8.603815e-17</td>\n",
       "      <td>-3.441526e-16</td>\n",
       "      <td>-6.035907e-16</td>\n",
       "      <td>-5.453495e-16</td>\n",
       "      <td>-6.234457e-16</td>\n",
       "      <td>-1.466620e-15</td>\n",
       "      <td>-1.135704e-15</td>\n",
       "      <td>8.590578e-16</td>\n",
       "      <td>3.441526e-17</td>\n",
       "      <td>-3.110610e-16</td>\n",
       "    </tr>\n",
       "    <tr>\n",
       "      <th>std</th>\n",
       "      <td>1.000000e+00</td>\n",
       "      <td>1.000000e+00</td>\n",
       "      <td>1.000000e+00</td>\n",
       "      <td>1.000000e+00</td>\n",
       "      <td>1.000000e+00</td>\n",
       "      <td>1.000000e+00</td>\n",
       "      <td>1.000000e+00</td>\n",
       "      <td>1.000000e+00</td>\n",
       "      <td>1.000000e+00</td>\n",
       "      <td>1.000000e+00</td>\n",
       "      <td>1.000000e+00</td>\n",
       "      <td>1.000000e+00</td>\n",
       "      <td>1.000000e+00</td>\n",
       "      <td>1.000000e+00</td>\n",
       "      <td>1.000000e+00</td>\n",
       "      <td>1.000000e+00</td>\n",
       "      <td>1.000000e+00</td>\n",
       "      <td>1.000000e+00</td>\n",
       "      <td>1.000000e+00</td>\n",
       "      <td>1.000000e+00</td>\n",
       "    </tr>\n",
       "    <tr>\n",
       "      <th>min</th>\n",
       "      <td>-2.792494e+00</td>\n",
       "      <td>-3.736543e+00</td>\n",
       "      <td>-3.836281e+00</td>\n",
       "      <td>-5.050824e+00</td>\n",
       "      <td>-5.357684e+00</td>\n",
       "      <td>-2.075189e+00</td>\n",
       "      <td>-3.959933e+00</td>\n",
       "      <td>-3.836118e+00</td>\n",
       "      <td>-3.758773e+00</td>\n",
       "      <td>-3.168415e+00</td>\n",
       "      <td>-7.540003e+00</td>\n",
       "      <td>-3.659323e+00</td>\n",
       "      <td>-2.708289e+00</td>\n",
       "      <td>-3.392126e+00</td>\n",
       "      <td>-2.352218e+00</td>\n",
       "      <td>-3.821283e+00</td>\n",
       "      <td>-2.599413e+00</td>\n",
       "      <td>-3.988608e+00</td>\n",
       "      <td>-4.732319e+00</td>\n",
       "      <td>-2.716928e+00</td>\n",
       "    </tr>\n",
       "    <tr>\n",
       "      <th>25%</th>\n",
       "      <td>-6.658584e-01</td>\n",
       "      <td>-6.247438e-01</td>\n",
       "      <td>-5.971343e-01</td>\n",
       "      <td>-6.024948e-01</td>\n",
       "      <td>-5.890334e-01</td>\n",
       "      <td>-6.754105e-01</td>\n",
       "      <td>-3.679400e-01</td>\n",
       "      <td>-6.297396e-01</td>\n",
       "      <td>-6.265347e-01</td>\n",
       "      <td>-3.171899e-01</td>\n",
       "      <td>-4.767961e-01</td>\n",
       "      <td>-6.367522e-01</td>\n",
       "      <td>-6.308221e-01</td>\n",
       "      <td>-5.944715e-01</td>\n",
       "      <td>-6.061521e-01</td>\n",
       "      <td>-6.814103e-01</td>\n",
       "      <td>-6.128990e-01</td>\n",
       "      <td>-6.012798e-01</td>\n",
       "      <td>-9.668180e-02</td>\n",
       "      <td>-5.372697e-01</td>\n",
       "    </tr>\n",
       "    <tr>\n",
       "      <th>50%</th>\n",
       "      <td>-2.179483e-01</td>\n",
       "      <td>-1.560183e-01</td>\n",
       "      <td>-2.355197e-01</td>\n",
       "      <td>-2.036025e-01</td>\n",
       "      <td>-5.953168e-02</td>\n",
       "      <td>-1.324626e-01</td>\n",
       "      <td>-3.679400e-01</td>\n",
       "      <td>-7.758280e-02</td>\n",
       "      <td>-1.541654e-01</td>\n",
       "      <td>-3.171899e-01</td>\n",
       "      <td>-1.564692e-01</td>\n",
       "      <td>-2.746734e-01</td>\n",
       "      <td>-2.027618e-01</td>\n",
       "      <td>-1.130646e-01</td>\n",
       "      <td>-2.374560e-01</td>\n",
       "      <td>-1.248462e-01</td>\n",
       "      <td>-1.756825e-01</td>\n",
       "      <td>-3.324442e-01</td>\n",
       "      <td>-9.668180e-02</td>\n",
       "      <td>-3.821952e-01</td>\n",
       "    </tr>\n",
       "    <tr>\n",
       "      <th>75%</th>\n",
       "      <td>4.978757e-01</td>\n",
       "      <td>5.301574e-01</td>\n",
       "      <td>2.685582e-01</td>\n",
       "      <td>3.747263e-01</td>\n",
       "      <td>5.010367e-01</td>\n",
       "      <td>4.789508e-01</td>\n",
       "      <td>-9.908305e-04</td>\n",
       "      <td>5.588626e-01</td>\n",
       "      <td>4.466431e-01</td>\n",
       "      <td>-4.368849e-02</td>\n",
       "      <td>2.439393e-01</td>\n",
       "      <td>2.828129e-01</td>\n",
       "      <td>4.238728e-01</td>\n",
       "      <td>4.647227e-01</td>\n",
       "      <td>3.605881e-01</td>\n",
       "      <td>5.320792e-01</td>\n",
       "      <td>4.559257e-01</td>\n",
       "      <td>4.171327e-01</td>\n",
       "      <td>-9.668180e-02</td>\n",
       "      <td>1.181922e-01</td>\n",
       "    </tr>\n",
       "    <tr>\n",
       "      <th>max</th>\n",
       "      <td>5.606484e+00</td>\n",
       "      <td>5.810113e+00</td>\n",
       "      <td>8.485564e+00</td>\n",
       "      <td>5.007594e+00</td>\n",
       "      <td>3.607720e+00</td>\n",
       "      <td>6.468538e+00</td>\n",
       "      <td>1.104672e+01</td>\n",
       "      <td>2.996449e+00</td>\n",
       "      <td>5.656826e+00</td>\n",
       "      <td>1.406737e+01</td>\n",
       "      <td>1.069460e+01</td>\n",
       "      <td>5.212481e+00</td>\n",
       "      <td>6.686936e+00</td>\n",
       "      <td>7.149692e+00</td>\n",
       "      <td>6.584655e+00</td>\n",
       "      <td>3.658563e+00</td>\n",
       "      <td>1.000690e+01</td>\n",
       "      <td>6.818582e+00</td>\n",
       "      <td>1.301555e+01</td>\n",
       "      <td>7.332762e+00</td>\n",
       "    </tr>\n",
       "  </tbody>\n",
       "</table>\n",
       "</div>"
      ],
      "text/plain": [
       "                 0             1             2             3             4   \\\n",
       "count  6.710000e+02  6.710000e+02  6.710000e+02  6.710000e+02  6.710000e+02   \n",
       "mean   1.846511e-16 -1.632077e-15 -3.812152e-16 -1.665169e-15 -2.250228e-16   \n",
       "std    1.000000e+00  1.000000e+00  1.000000e+00  1.000000e+00  1.000000e+00   \n",
       "min   -2.792494e+00 -3.736543e+00 -3.836281e+00 -5.050824e+00 -5.357684e+00   \n",
       "25%   -6.658584e-01 -6.247438e-01 -5.971343e-01 -6.024948e-01 -5.890334e-01   \n",
       "50%   -2.179483e-01 -1.560183e-01 -2.355197e-01 -2.036025e-01 -5.953168e-02   \n",
       "75%    4.978757e-01  5.301574e-01  2.685582e-01  3.747263e-01  5.010367e-01   \n",
       "max    5.606484e+00  5.810113e+00  8.485564e+00  5.007594e+00  3.607720e+00   \n",
       "\n",
       "                 5             6             7             8             9   \\\n",
       "count  6.710000e+02  6.710000e+02  6.710000e+02  6.710000e+02  6.710000e+02   \n",
       "mean  -8.947967e-16 -3.706259e-17 -1.802830e-15 -2.514961e-17  2.779694e-16   \n",
       "std    1.000000e+00  1.000000e+00  1.000000e+00  1.000000e+00  1.000000e+00   \n",
       "min   -2.075189e+00 -3.959933e+00 -3.836118e+00 -3.758773e+00 -3.168415e+00   \n",
       "25%   -6.754105e-01 -3.679400e-01 -6.297396e-01 -6.265347e-01 -3.171899e-01   \n",
       "50%   -1.324626e-01 -3.679400e-01 -7.758280e-02 -1.541654e-01 -3.171899e-01   \n",
       "75%    4.789508e-01 -9.908305e-04  5.588626e-01  4.466431e-01 -4.368849e-02   \n",
       "max    6.468538e+00  1.104672e+01  2.996449e+00  5.656826e+00  1.406737e+01   \n",
       "\n",
       "                 10            11            12            13            14  \\\n",
       "count  6.710000e+02  6.710000e+02  6.710000e+02  6.710000e+02  6.710000e+02   \n",
       "mean  -8.603815e-17 -3.441526e-16 -6.035907e-16 -5.453495e-16 -6.234457e-16   \n",
       "std    1.000000e+00  1.000000e+00  1.000000e+00  1.000000e+00  1.000000e+00   \n",
       "min   -7.540003e+00 -3.659323e+00 -2.708289e+00 -3.392126e+00 -2.352218e+00   \n",
       "25%   -4.767961e-01 -6.367522e-01 -6.308221e-01 -5.944715e-01 -6.061521e-01   \n",
       "50%   -1.564692e-01 -2.746734e-01 -2.027618e-01 -1.130646e-01 -2.374560e-01   \n",
       "75%    2.439393e-01  2.828129e-01  4.238728e-01  4.647227e-01  3.605881e-01   \n",
       "max    1.069460e+01  5.212481e+00  6.686936e+00  7.149692e+00  6.584655e+00   \n",
       "\n",
       "                 15            16            17            18            19  \n",
       "count  6.710000e+02  6.710000e+02  6.710000e+02  6.710000e+02  6.710000e+02  \n",
       "mean  -1.466620e-15 -1.135704e-15  8.590578e-16  3.441526e-17 -3.110610e-16  \n",
       "std    1.000000e+00  1.000000e+00  1.000000e+00  1.000000e+00  1.000000e+00  \n",
       "min   -3.821283e+00 -2.599413e+00 -3.988608e+00 -4.732319e+00 -2.716928e+00  \n",
       "25%   -6.814103e-01 -6.128990e-01 -6.012798e-01 -9.668180e-02 -5.372697e-01  \n",
       "50%   -1.248462e-01 -1.756825e-01 -3.324442e-01 -9.668180e-02 -3.821952e-01  \n",
       "75%    5.320792e-01  4.559257e-01  4.171327e-01 -9.668180e-02  1.181922e-01  \n",
       "max    3.658563e+00  1.000690e+01  6.818582e+00  1.301555e+01  7.332762e+00  "
      ]
     },
     "execution_count": 158,
     "metadata": {},
     "output_type": "execute_result"
    }
   ],
   "source": [
    "data_normal.describe()"
   ]
  },
  {
   "cell_type": "code",
   "execution_count": 159,
   "metadata": {
    "collapsed": false
   },
   "outputs": [
    {
     "name": "stdout",
     "output_type": "stream",
     "text": [
      "671.0\n",
      "[ 671.]\n",
      "330.0\n",
      "[ 330.  341.]\n",
      "130.0\n",
      "[ 130.  305.  236.]\n",
      "90.0\n",
      "[ 104.  192.   90.  285.]\n",
      "6.0\n",
      "[ 193.    6.  279.  104.   89.]\n",
      "8.0\n",
      "[ 103.  109.  109.  287.    8.   55.]\n",
      "5.0\n",
      "[   5.   83.  240.   78.  103.  122.   40.]\n"
     ]
    },
    {
     "data": {
      "image/png": "[encoded data removed]",
      "text/plain": [
       "<matplotlib.figure.Figure at 0x7f74a27bc510>"
      ]
     },
     "metadata": {},
     "output_type": "display_data"
    }
   ],
   "source": [
    "from sklearn.cluster import KMeans as KM\n",
    "inertia=[]\n",
    "maxi=8\n",
    "for i in range(1,maxi):\n",
    "    km=KM(n_clusters=i)\n",
    "    km.fit(np.array(data_normal))\n",
    "    inertia.append(km.inertia_)\n",
    "    labels=km.labels_\n",
    "    counter=np.zeros(i)\n",
    "    for i in labels:\n",
    "        counter[i]+=1\n",
    "    print counter.min()\n",
    "    print counter\n",
    "from matplotlib import pyplot as plt\n",
    "%matplotlib inline\n",
    "plt.plot(range(1,maxi),inertia)\n",
    "plt.show()\n",
    "###3 or 4 clusters seems right, there is no general rule"
   ]
  },
  {
   "cell_type": "code",
   "execution_count": 160,
   "metadata": {
    "collapsed": false
   },
   "outputs": [
    {
     "data": {
      "text/plain": [
       "array([   5.,   83.,  240.,   78.,  103.,  122.,   40.])"
      ]
     },
     "execution_count": 160,
     "metadata": {},
     "output_type": "execute_result"
    }
   ],
   "source": []
  },
  {
   "cell_type": "code",
   "execution_count": null,
   "metadata": {
    "collapsed": false
   },
   "outputs": [],
   "source": []
  },
  {
   "cell_type": "code",
   "execution_count": null,
   "metadata": {
    "collapsed": false
   },
   "outputs": [],
   "source": []
  },
  {
   "cell_type": "code",
   "execution_count": null,
   "metadata": {
    "collapsed": false
   },
   "outputs": [],
   "source": []
  },
  {
   "cell_type": "code",
   "execution_count": 199,
   "metadata": {
    "collapsed": false
   },
   "outputs": [],
   "source": [
    "C=4\n",
    "km=KM(n_clusters=C)\n",
    "km.fit(np.array(data_normal))\n",
    "labels=km.labels_"
   ]
  },
  {
   "cell_type": "code",
   "execution_count": 200,
   "metadata": {
    "collapsed": false
   },
   "outputs": [
    {
     "data": {
      "text/plain": [
       "100004"
      ]
     },
     "execution_count": 200,
     "metadata": {},
     "output_type": "execute_result"
    }
   ],
   "source": [
    "lab=np.zeros(len(raw_ratings))\n",
    "for i in raw_ratings.index:\n",
    "    lab[i]=labels[raw_ratings.userId[i]-1]\n",
    "len(lab)"
   ]
  },
  {
   "cell_type": "code",
   "execution_count": 201,
   "metadata": {
    "collapsed": false
   },
   "outputs": [
    {
     "data": {
      "text/plain": [
       "array([[  1.00000000e+00,   3.10000000e+01,   2.50000000e+00,\n",
       "          1.00000000e+00],\n",
       "       [  1.00000000e+00,   1.02900000e+03,   3.00000000e+00,\n",
       "          1.00000000e+00],\n",
       "       [  1.00000000e+00,   1.06100000e+03,   3.00000000e+00,\n",
       "          1.00000000e+00],\n",
       "       ..., \n",
       "       [  6.71000000e+02,   6.36500000e+03,   4.00000000e+00,\n",
       "          2.00000000e+00],\n",
       "       [  6.71000000e+02,   6.38500000e+03,   2.50000000e+00,\n",
       "          2.00000000e+00],\n",
       "       [  6.71000000e+02,   6.56500000e+03,   3.50000000e+00,\n",
       "          2.00000000e+00]])"
      ]
     },
     "execution_count": 201,
     "metadata": {},
     "output_type": "execute_result"
    }
   ],
   "source": [
    "lista1=list(np.array(raw_ratings.drop('timestamp',axis=1)))\n",
    "data_final=[]\n",
    "for i in range(len(lab)):\n",
    "    lista2=list(lista1[i])\n",
    "    lista2.append(lab[i])\n",
    "    lista2=np.array(lista2)\n",
    "    data_final.append(lista2)\n",
    "data_final=np.array(data_final)\n",
    "data_final"
   ]
  },
  {
   "cell_type": "code",
   "execution_count": null,
   "metadata": {
    "collapsed": false
   },
   "outputs": [],
   "source": []
  },
  {
   "cell_type": "code",
   "execution_count": 202,
   "metadata": {
    "collapsed": false
   },
   "outputs": [],
   "source": [
    "columnas=list(raw_ratings.drop('timestamp',axis=1).columns)\n",
    "columnas.append('labels')\n",
    "columnas\n",
    "data_with_labels=pd.DataFrame(data_final,columns=columnas)"
   ]
  },
  {
   "cell_type": "code",
   "execution_count": 203,
   "metadata": {
    "collapsed": false
   },
   "outputs": [
    {
     "data": {
      "text/html": [
       "<div>\n",
       "<table border=\"1\" class=\"dataframe\">\n",
       "  <thead>\n",
       "    <tr style=\"text-align: right;\">\n",
       "      <th></th>\n",
       "      <th>userId</th>\n",
       "      <th>movieId</th>\n",
       "      <th>rating</th>\n",
       "      <th>labels</th>\n",
       "    </tr>\n",
       "  </thead>\n",
       "  <tbody>\n",
       "    <tr>\n",
       "      <th>count</th>\n",
       "      <td>7443.000000</td>\n",
       "      <td>7443.000000</td>\n",
       "      <td>7443.000000</td>\n",
       "      <td>7443</td>\n",
       "    </tr>\n",
       "    <tr>\n",
       "      <th>mean</th>\n",
       "      <td>339.657934</td>\n",
       "      <td>25570.279054</td>\n",
       "      <td>4.065565</td>\n",
       "      <td>3</td>\n",
       "    </tr>\n",
       "    <tr>\n",
       "      <th>std</th>\n",
       "      <td>202.972446</td>\n",
       "      <td>37652.892609</td>\n",
       "      <td>0.836387</td>\n",
       "      <td>0</td>\n",
       "    </tr>\n",
       "    <tr>\n",
       "      <th>min</th>\n",
       "      <td>11.000000</td>\n",
       "      <td>1.000000</td>\n",
       "      <td>0.500000</td>\n",
       "      <td>3</td>\n",
       "    </tr>\n",
       "    <tr>\n",
       "      <th>25%</th>\n",
       "      <td>169.000000</td>\n",
       "      <td>1262.000000</td>\n",
       "      <td>3.500000</td>\n",
       "      <td>3</td>\n",
       "    </tr>\n",
       "    <tr>\n",
       "      <th>50%</th>\n",
       "      <td>291.000000</td>\n",
       "      <td>3897.000000</td>\n",
       "      <td>4.000000</td>\n",
       "      <td>3</td>\n",
       "    </tr>\n",
       "    <tr>\n",
       "      <th>75%</th>\n",
       "      <td>546.000000</td>\n",
       "      <td>49275.000000</td>\n",
       "      <td>5.000000</td>\n",
       "      <td>3</td>\n",
       "    </tr>\n",
       "    <tr>\n",
       "      <th>max</th>\n",
       "      <td>664.000000</td>\n",
       "      <td>161944.000000</td>\n",
       "      <td>5.000000</td>\n",
       "      <td>3</td>\n",
       "    </tr>\n",
       "  </tbody>\n",
       "</table>\n",
       "</div>"
      ],
      "text/plain": [
       "            userId        movieId       rating  labels\n",
       "count  7443.000000    7443.000000  7443.000000    7443\n",
       "mean    339.657934   25570.279054     4.065565       3\n",
       "std     202.972446   37652.892609     0.836387       0\n",
       "min      11.000000       1.000000     0.500000       3\n",
       "25%     169.000000    1262.000000     3.500000       3\n",
       "50%     291.000000    3897.000000     4.000000       3\n",
       "75%     546.000000   49275.000000     5.000000       3\n",
       "max     664.000000  161944.000000     5.000000       3"
      ]
     },
     "execution_count": 203,
     "metadata": {},
     "output_type": "execute_result"
    }
   ],
   "source": [
    "data_with_labels[data_with_labels['labels']==3].describe()"
   ]
  },
  {
   "cell_type": "code",
   "execution_count": 204,
   "metadata": {
    "collapsed": false
   },
   "outputs": [],
   "source": [
    "movies=np.array(raw_movies.movieId)\n",
    "movies_dic=[]\n",
    "movies_count_list=[]\n",
    "for j in range(C):\n",
    "    movies_scores={}\n",
    "    movies_count={}\n",
    "    for i in movies:\n",
    "        movies_count[i]=0###count\n",
    "        movies_scores[i]=0###score\n",
    "    mask=data_with_labels['labels']==j\n",
    "    data_mask=data_with_labels[mask]\n",
    "    for i in data_mask.index:\n",
    "        movies_count[data_mask.movieId[i]]+=1\n",
    "        movies_scores[data_mask.movieId[i]]+=data_mask.rating[i]\n",
    "    for i in movies_scores:\n",
    "        if movies_scores[i]!=0:\n",
    "            movies_scores[i]=movies_scores[i]/movies_count[i]\n",
    "    movies_dic.append(movies_scores)\n",
    "    movies_count_list.append(movies_count)"
   ]
  },
  {
   "cell_type": "code",
   "execution_count": 205,
   "metadata": {
    "collapsed": false
   },
   "outputs": [
    {
     "data": {
      "text/plain": [
       "array([ 283.,  195.,  109.,   84.])"
      ]
     },
     "execution_count": 205,
     "metadata": {},
     "output_type": "execute_result"
    }
   ],
   "source": [
    "counter=np.zeros(C)\n",
    "for i in labels:\n",
    "    counter[i]+=1\n",
    "counter\n"
   ]
  },
  {
   "cell_type": "code",
   "execution_count": null,
   "metadata": {
    "collapsed": false
   },
   "outputs": [],
   "source": []
  },
  {
   "cell_type": "code",
   "execution_count": 218,
   "metadata": {
    "collapsed": false
   },
   "outputs": [
    {
     "name": "stdout",
     "output_type": "stream",
     "text": [
      "cluster 0\n",
      "527 124 4.33870967742\n",
      "608 116 4.43965517241\n",
      "2858 121 4.39256198347\n",
      "3 \n",
      "\n",
      "cluster 1\n",
      "260 82 3.91463414634\n",
      "296 95 3.88947368421\n",
      "318 90 4.12777777778\n",
      "356 97 3.63402061856\n",
      "480 90 3.31666666667\n",
      "593 89 3.98876404494\n",
      "6 \n",
      "\n",
      "cluster 2\n",
      "1 54 4.42592592593\n",
      "260 44 4.43181818182\n",
      "364 54 4.30555555556\n",
      "480 50 4.1\n",
      "595 54 4.37962962963\n",
      "5 \n",
      "\n",
      "cluster 3\n",
      "296 36 4.44444444444\n",
      "589 39 4.46153846154\n",
      "1198 35 4.6\n",
      "1210 40 4.575\n",
      "1270 36 4.375\n",
      "4993 40 4.4875\n",
      "5952 37 4.47297297297\n",
      "79132 39 4.5\n",
      "8 \n",
      "\n"
     ]
    }
   ],
   "source": [
    "pop_mov=[]\n",
    "for j in range(C):\n",
    "    mov_clus=[]\n",
    "    contador=0\n",
    "    print 'cluster' , j\n",
    "    for i in movies:\n",
    "        if 0.4*counter[j]<movies_count_list[j][i]<0.5*counter[j]:\n",
    "            mov_clus.append(i)\n",
    "            print i,movies_count_list[j][i],movies_dic[j][i]\n",
    "            contador+=1\n",
    "    mov_clus=np.array(mov_clus)\n",
    "    pop_mov.append(mov_clus)\n",
    "    print contador,'\\n'\n",
    "pop_mov=np.array(pop_mov)"
   ]
  },
  {
   "cell_type": "code",
   "execution_count": 219,
   "metadata": {
    "collapsed": false
   },
   "outputs": [
    {
     "name": "stdout",
     "output_type": "stream",
     "text": [
      "cluster 0 \n",
      "\n",
      "472    Schindler's List (1993)\n",
      "Name: title, dtype: object\n",
      "535    Fargo (1996)\n",
      "Name: title, dtype: object\n",
      "2288    American Beauty (1999)\n",
      "Name: title, dtype: object\n",
      "\n",
      "\n",
      "cluster 1 \n",
      "\n",
      "232    Star Wars: Episode IV - A New Hope (1977)\n",
      "Name: title, dtype: object\n",
      "266    Pulp Fiction (1994)\n",
      "Name: title, dtype: object\n",
      "284    Shawshank Redemption, The (1994)\n",
      "Name: title, dtype: object\n",
      "321    Forrest Gump (1994)\n",
      "Name: title, dtype: object\n",
      "427    Jurassic Park (1993)\n",
      "Name: title, dtype: object\n",
      "525    Silence of the Lambs, The (1991)\n",
      "Name: title, dtype: object\n",
      "\n",
      "\n",
      "cluster 2 \n",
      "\n",
      "0    Toy Story (1995)\n",
      "Name: title, dtype: object\n",
      "232    Star Wars: Episode IV - A New Hope (1977)\n",
      "Name: title, dtype: object\n",
      "328    Lion King, The (1994)\n",
      "Name: title, dtype: object\n",
      "427    Jurassic Park (1993)\n",
      "Name: title, dtype: object\n",
      "527    Beauty and the Beast (1991)\n",
      "Name: title, dtype: object\n",
      "\n",
      "\n",
      "cluster 3 \n",
      "\n",
      "266    Pulp Fiction (1994)\n",
      "Name: title, dtype: object\n",
      "522    Terminator 2: Judgment Day (1991)\n",
      "Name: title, dtype: object\n",
      "955    Raiders of the Lost Ark (Indiana Jones and the...\n",
      "Name: title, dtype: object\n",
      "966    Star Wars: Episode VI - Return of the Jedi (1983)\n",
      "Name: title, dtype: object\n",
      "1024    Back to the Future (1985)\n",
      "Name: title, dtype: object\n",
      "3871    Lord of the Rings: The Fellowship of the Ring,...\n",
      "Name: title, dtype: object\n",
      "4395    Lord of the Rings: The Two Towers, The (2002)\n",
      "Name: title, dtype: object\n",
      "7575    Inception (2010)\n",
      "Name: title, dtype: object\n",
      "\n",
      "\n"
     ]
    }
   ],
   "source": [
    "for i in range(C):\n",
    "    print 'cluster',i ,'\\n'\n",
    "    for j in pop_mov[i]:\n",
    "        print raw_movies[raw_movies.movieId==j].title \n",
    "    print '\\n'"
   ]
  },
  {
   "cell_type": "code",
   "execution_count": 213,
   "metadata": {
    "collapsed": false
   },
   "outputs": [
    {
     "data": {
      "text/html": [
       "<div>\n",
       "<table border=\"1\" class=\"dataframe\">\n",
       "  <thead>\n",
       "    <tr style=\"text-align: right;\">\n",
       "      <th></th>\n",
       "      <th>movieId</th>\n",
       "      <th>title</th>\n",
       "      <th>genres</th>\n",
       "    </tr>\n",
       "  </thead>\n",
       "  <tbody>\n",
       "    <tr>\n",
       "      <th>954</th>\n",
       "      <td>1197</td>\n",
       "      <td>Princess Bride, The (1987)</td>\n",
       "      <td>Action|Adventure|Comedy|Fantasy|Romance</td>\n",
       "    </tr>\n",
       "  </tbody>\n",
       "</table>\n",
       "</div>"
      ],
      "text/plain": [
       "     movieId                       title  \\\n",
       "954     1197  Princess Bride, The (1987)   \n",
       "\n",
       "                                      genres  \n",
       "954  Action|Adventure|Comedy|Fantasy|Romance  "
      ]
     },
     "execution_count": 213,
     "metadata": {},
     "output_type": "execute_result"
    }
   ],
   "source": [
    "raw_movies[raw_movies.movieId==1197]"
   ]
  },
  {
   "cell_type": "code",
   "execution_count": 208,
   "metadata": {
    "collapsed": false
   },
   "outputs": [
    {
     "name": "stdout",
     "output_type": "stream",
     "text": [
      "-457.368138075\n"
     ]
    }
   ],
   "source": [
    "print t-time.time()"
   ]
  }
 ],
 "metadata": {
  "kernelspec": {
   "display_name": "Python 2",
   "language": "python",
   "name": "python2"
  },
  "language_info": {
   "codemirror_mode": {
    "name": "ipython",
    "version": 2
   },
   "file_extension": ".py",
   "mimetype": "text/x-python",
   "name": "python",
   "nbconvert_exporter": "python",
   "pygments_lexer": "ipython2",
   "version": "2.7.12"
  }
 },
 "nbformat": 4,
 "nbformat_minor": 0
}
